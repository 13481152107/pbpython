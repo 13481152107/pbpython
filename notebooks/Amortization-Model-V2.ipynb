{
 "cells": [
  {
   "cell_type": "code",
   "execution_count": 1,
   "metadata": {
    "collapsed": true
   },
   "outputs": [],
   "source": [
    "import pandas as pd\n",
    "from datetime import date\n",
    "import numpy as np\n",
    "from collections import OrderedDict\n",
    "from dateutil.relativedelta import *\n",
    "import matplotlib.pyplot as plt\n",
    "import matplotlib\n",
    "from decimal import Decimal"
   ]
  },
  {
   "cell_type": "code",
   "execution_count": 2,
   "metadata": {
    "collapsed": true
   },
   "outputs": [],
   "source": [
    "# from - http://rhodesmill.org/brandon/2014/pandas-payroll/\n",
    "def c(value):\n",
    "    \"Convert `value` to Decimal cents.\"\n",
    "    one_cent = Decimal('0.01')\n",
    "    return Decimal(value).quantize(one_cent)"
   ]
  },
  {
   "cell_type": "markdown",
   "metadata": {},
   "source": [
    "http://www.decisionaide.com/mpcalculators/extrapaymentscalculator/ExtraPayments1Amort.asp"
   ]
  },
  {
   "cell_type": "code",
   "execution_count": 3,
   "metadata": {
    "collapsed": true
   },
   "outputs": [],
   "source": [
    "%matplotlib inline"
   ]
  },
  {
   "cell_type": "code",
   "execution_count": 4,
   "metadata": {
    "collapsed": false
   },
   "outputs": [],
   "source": [
    "def amortize(start_date, orig_bal, interest_rate=.04, years=30, additional_payment=0):\n",
    "\n",
    "    annual_payments=12\n",
    "    \n",
    "    # Payment stays constant based on the original terms of the loan\n",
    "    pmt = np.pmt(interest_rate/annual_payments, years*annual_payments, orig_bal)\n",
    "    \n",
    "    # Convert number to unsigned Decimal\n",
    "    pmt = Decimal(abs(pmt))\n",
    "    \n",
    "    # initialize the loop variables to keep track of the periods \n",
    "    # and running begin and end balances as decimals\n",
    "    p = 1\n",
    "    beg_balance = Decimal(orig_bal)\n",
    "    end_balance = Decimal(orig_bal)\n",
    "    \n",
    "    while end_balance > 0:\n",
    "        \n",
    "        # Recalculate the interest based on the current balance\n",
    "        interest = Decimal(interest_rate/annual_payments) * beg_balance\n",
    "        \n",
    "        # Check to see if we are paying it off early and limit \n",
    "        # the final payment to no more than the balance due\n",
    "        # TODO: make this smarter with respect to the additional payment\n",
    "        if pmt > beg_balance:\n",
    "            pmt = beg_balance + interest\n",
    "            additional_payment = 0\n",
    "        principal = pmt - interest\n",
    "        end_balance = beg_balance - (principal + additional_payment)\n",
    "\n",
    "        yield OrderedDict([('Month',start_date),\n",
    "                           ('Period', p),\n",
    "                           ('Begin Balance', c(beg_balance)),\n",
    "                           ('Payment', c(pmt)),\n",
    "                           ('Principal', c(principal)),\n",
    "                           ('Interest', c(interest)),\n",
    "                           ('Additional_Payment', c(additional_payment)),\n",
    "                           ('End Balance', c(end_balance))])\n",
    "        \n",
    "        # Increment the counter, balance and date\n",
    "        p += 1\n",
    "        start_date += relativedelta(months=1)\n",
    "        beg_balance = end_balance"
   ]
  },
  {
   "cell_type": "code",
   "execution_count": 5,
   "metadata": {
    "collapsed": true
   },
   "outputs": [],
   "source": [
    "# Test a call to the function"
   ]
  },
  {
   "cell_type": "code",
   "execution_count": 6,
   "metadata": {
    "collapsed": false
   },
   "outputs": [],
   "source": [
    "a = amortize(start_date=date(2016,1,1),\n",
    "                        orig_bal=200000,\n",
    "                        interest_rate=.045,\n",
    "                        additional_payment=50)"
   ]
  },
  {
   "cell_type": "code",
   "execution_count": 7,
   "metadata": {
    "collapsed": false
   },
   "outputs": [
    {
     "data": {
      "text/plain": [
       "datetime.date(2043, 3, 1)"
      ]
     },
     "execution_count": 7,
     "metadata": {},
     "output_type": "execute_result"
    }
   ],
   "source": [
    "max([el['Month'] for el in a])"
   ]
  },
  {
   "cell_type": "code",
   "execution_count": 8,
   "metadata": {
    "collapsed": true
   },
   "outputs": [],
   "source": [
    "# Create a dataframe"
   ]
  },
  {
   "cell_type": "code",
   "execution_count": 9,
   "metadata": {
    "collapsed": false
   },
   "outputs": [
    {
     "data": {
      "text/html": [
       "<div>\n",
       "<table border=\"1\" class=\"dataframe\">\n",
       "  <thead>\n",
       "    <tr style=\"text-align: right;\">\n",
       "      <th></th>\n",
       "      <th>Period</th>\n",
       "      <th>Month</th>\n",
       "      <th>Begin Balance</th>\n",
       "      <th>Payment</th>\n",
       "      <th>Interest</th>\n",
       "      <th>Principal</th>\n",
       "      <th>Additional_Payment</th>\n",
       "      <th>End Balance</th>\n",
       "    </tr>\n",
       "  </thead>\n",
       "  <tbody>\n",
       "    <tr>\n",
       "      <th>0</th>\n",
       "      <td>1</td>\n",
       "      <td>2016-01-01</td>\n",
       "      <td>700000.00</td>\n",
       "      <td>3341.91</td>\n",
       "      <td>2333.33</td>\n",
       "      <td>1008.57</td>\n",
       "      <td>200.00</td>\n",
       "      <td>698791.43</td>\n",
       "    </tr>\n",
       "    <tr>\n",
       "      <th>1</th>\n",
       "      <td>2</td>\n",
       "      <td>2016-02-01</td>\n",
       "      <td>698791.43</td>\n",
       "      <td>3341.91</td>\n",
       "      <td>2329.30</td>\n",
       "      <td>1012.60</td>\n",
       "      <td>200.00</td>\n",
       "      <td>697578.82</td>\n",
       "    </tr>\n",
       "    <tr>\n",
       "      <th>2</th>\n",
       "      <td>3</td>\n",
       "      <td>2016-03-01</td>\n",
       "      <td>697578.82</td>\n",
       "      <td>3341.91</td>\n",
       "      <td>2325.26</td>\n",
       "      <td>1016.64</td>\n",
       "      <td>200.00</td>\n",
       "      <td>696362.18</td>\n",
       "    </tr>\n",
       "    <tr>\n",
       "      <th>3</th>\n",
       "      <td>4</td>\n",
       "      <td>2016-04-01</td>\n",
       "      <td>696362.18</td>\n",
       "      <td>3341.91</td>\n",
       "      <td>2321.21</td>\n",
       "      <td>1020.70</td>\n",
       "      <td>200.00</td>\n",
       "      <td>695141.48</td>\n",
       "    </tr>\n",
       "    <tr>\n",
       "      <th>4</th>\n",
       "      <td>5</td>\n",
       "      <td>2016-05-01</td>\n",
       "      <td>695141.48</td>\n",
       "      <td>3341.91</td>\n",
       "      <td>2317.14</td>\n",
       "      <td>1024.77</td>\n",
       "      <td>200.00</td>\n",
       "      <td>693916.71</td>\n",
       "    </tr>\n",
       "  </tbody>\n",
       "</table>\n",
       "</div>"
      ],
      "text/plain": [
       "   Period       Month Begin Balance  Payment Interest Principal  \\\n",
       "0       1  2016-01-01     700000.00  3341.91  2333.33   1008.57   \n",
       "1       2  2016-02-01     698791.43  3341.91  2329.30   1012.60   \n",
       "2       3  2016-03-01     697578.82  3341.91  2325.26   1016.64   \n",
       "3       4  2016-04-01     696362.18  3341.91  2321.21   1020.70   \n",
       "4       5  2016-05-01     695141.48  3341.91  2317.14   1024.77   \n",
       "\n",
       "  Additional_Payment End Balance  \n",
       "0             200.00   698791.43  \n",
       "1             200.00   697578.82  \n",
       "2             200.00   696362.18  \n",
       "3             200.00   695141.48  \n",
       "4             200.00   693916.71  "
      ]
     },
     "execution_count": 9,
     "metadata": {},
     "output_type": "execute_result"
    }
   ],
   "source": [
    "sched = pd.DataFrame(amortize(start_date=date(2016,1,1), orig_bal=700000, \n",
    "                              interest_rate=.04, additional_payment=200))\n",
    "sched = sched[[\"Period\", \"Month\", \"Begin Balance\", \"Payment\", \"Interest\", \n",
    "               \"Principal\", \"Additional_Payment\", \"End Balance\"]]\n",
    "sched.head(5)"
   ]
  },
  {
   "cell_type": "code",
   "execution_count": 10,
   "metadata": {
    "collapsed": false
   },
   "outputs": [
    {
     "data": {
      "text/html": [
       "<div>\n",
       "<table border=\"1\" class=\"dataframe\">\n",
       "  <thead>\n",
       "    <tr style=\"text-align: right;\">\n",
       "      <th></th>\n",
       "      <th>Period</th>\n",
       "      <th>Month</th>\n",
       "      <th>Begin Balance</th>\n",
       "      <th>Payment</th>\n",
       "      <th>Interest</th>\n",
       "      <th>Principal</th>\n",
       "      <th>Additional_Payment</th>\n",
       "      <th>End Balance</th>\n",
       "    </tr>\n",
       "  </thead>\n",
       "  <tbody>\n",
       "    <tr>\n",
       "      <th>319</th>\n",
       "      <td>320</td>\n",
       "      <td>2042-08-01</td>\n",
       "      <td>14415.35</td>\n",
       "      <td>3341.91</td>\n",
       "      <td>48.05</td>\n",
       "      <td>3293.86</td>\n",
       "      <td>200.00</td>\n",
       "      <td>10921.49</td>\n",
       "    </tr>\n",
       "    <tr>\n",
       "      <th>320</th>\n",
       "      <td>321</td>\n",
       "      <td>2042-09-01</td>\n",
       "      <td>10921.49</td>\n",
       "      <td>3341.91</td>\n",
       "      <td>36.40</td>\n",
       "      <td>3305.50</td>\n",
       "      <td>200.00</td>\n",
       "      <td>7415.99</td>\n",
       "    </tr>\n",
       "    <tr>\n",
       "      <th>321</th>\n",
       "      <td>322</td>\n",
       "      <td>2042-10-01</td>\n",
       "      <td>7415.99</td>\n",
       "      <td>3341.91</td>\n",
       "      <td>24.72</td>\n",
       "      <td>3317.19</td>\n",
       "      <td>200.00</td>\n",
       "      <td>3898.80</td>\n",
       "    </tr>\n",
       "    <tr>\n",
       "      <th>322</th>\n",
       "      <td>323</td>\n",
       "      <td>2042-11-01</td>\n",
       "      <td>3898.80</td>\n",
       "      <td>3341.91</td>\n",
       "      <td>13.00</td>\n",
       "      <td>3328.91</td>\n",
       "      <td>200.00</td>\n",
       "      <td>369.89</td>\n",
       "    </tr>\n",
       "    <tr>\n",
       "      <th>323</th>\n",
       "      <td>324</td>\n",
       "      <td>2042-12-01</td>\n",
       "      <td>369.89</td>\n",
       "      <td>371.12</td>\n",
       "      <td>1.23</td>\n",
       "      <td>369.89</td>\n",
       "      <td>0.00</td>\n",
       "      <td>0.00</td>\n",
       "    </tr>\n",
       "  </tbody>\n",
       "</table>\n",
       "</div>"
      ],
      "text/plain": [
       "     Period       Month Begin Balance  Payment Interest Principal  \\\n",
       "319     320  2042-08-01      14415.35  3341.91    48.05   3293.86   \n",
       "320     321  2042-09-01      10921.49  3341.91    36.40   3305.50   \n",
       "321     322  2042-10-01       7415.99  3341.91    24.72   3317.19   \n",
       "322     323  2042-11-01       3898.80  3341.91    13.00   3328.91   \n",
       "323     324  2042-12-01        369.89   371.12     1.23    369.89   \n",
       "\n",
       "    Additional_Payment End Balance  \n",
       "319             200.00    10921.49  \n",
       "320             200.00     7415.99  \n",
       "321             200.00     3898.80  \n",
       "322             200.00      369.89  \n",
       "323               0.00        0.00  "
      ]
     },
     "execution_count": 10,
     "metadata": {},
     "output_type": "execute_result"
    }
   ],
   "source": [
    "sched.tail()"
   ]
  },
  {
   "cell_type": "code",
   "execution_count": 11,
   "metadata": {
    "collapsed": false
   },
   "outputs": [
    {
     "data": {
      "image/png": "[encoded data removed]",
      "text/plain": [
       "<matplotlib.figure.Figure at 0x7fdb35675eb8>"
      ]
     },
     "metadata": {},
     "output_type": "display_data"
    }
   ],
   "source": [
    "additional_payments = [0, 50, 200, 500]\n",
    "results = list(map(lambda x: list(amortize(start_date=date(2016,1,1),\n",
    "                                           orig_bal=200000,\n",
    "                                           additional_payment=x)),\n",
    "                   additional_payments))\n",
    "fig, ax = plt.subplots(1, 1)\n",
    "\n",
    "for result, payment in zip(results, additional_payments):\n",
    "    ax.plot([x['Month'] for x in result], [x['End Balance'] for x in result], label='Additional Payment = ' + str(payment))\n",
    "\n",
    "ax.legend();"
   ]
  },
  {
   "cell_type": "code",
   "execution_count": null,
   "metadata": {
    "collapsed": true
   },
   "outputs": [],
   "source": []
  },
  {
   "cell_type": "code",
   "execution_count": null,
   "metadata": {
    "collapsed": true
   },
   "outputs": [],
   "source": []
  }
 ],
 "metadata": {
  "kernelspec": {
   "display_name": "Python 3",
   "language": "python",
   "name": "python3"
  },
  "language_info": {
   "codemirror_mode": {
    "name": "ipython",
    "version": 3
   },
   "file_extension": ".py",
   "mimetype": "text/x-python",
   "name": "python",
   "nbconvert_exporter": "python",
   "pygments_lexer": "ipython3",
   "version": "3.5.2"
  }
 },
 "nbformat": 4,
 "nbformat_minor": 0
}
